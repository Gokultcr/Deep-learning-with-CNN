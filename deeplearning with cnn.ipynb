{
  "nbformat": 4,
  "nbformat_minor": 0,
  "metadata": {
    "colab": {
      "name": "Untitled0.ipynb",
      "provenance": []
    },
    "kernelspec": {
      "name": "python3",
      "display_name": "Python 3"
    },
    "language_info": {
      "name": "python"
    }
  },
  "cells": [
    {
      "cell_type": "markdown",
      "metadata": {
        "id": "KM1KmsgJMFuV"
      },
      "source": [
        "**Here going to evaluate CNN with different activation functions and optimizers on CIFAR10**"
      ]
    },
    {
      "cell_type": "markdown",
      "metadata": {
        "id": "Jc3lL17hjNcB"
      },
      "source": [
        "Loading libraries"
      ]
    },
    {
      "cell_type": "code",
      "metadata": {
        "id": "1qkypAIniqQO"
      },
      "source": [
        "import tensorflow as tf\n",
        "from tensorflow.keras import datasets, layers, models\n",
        "import matplotlib.pyplot as plt\n",
        "import numpy as np"
      ],
      "execution_count": null,
      "outputs": []
    },
    {
      "cell_type": "markdown",
      "metadata": {
        "id": "rnyhJyAMjpoy"
      },
      "source": [
        "Loading dataset into training set and testing set"
      ]
    },
    {
      "cell_type": "code",
      "metadata": {
        "id": "ptyqiI-7kZIO"
      },
      "source": [
        "data = datasets.cifar10.load_data()"
      ],
      "execution_count": null,
      "outputs": []
    },
    {
      "cell_type": "code",
      "metadata": {
        "id": "0wzHGSIvkdEe"
      },
      "source": [
        "(x_train, y_train), (x_test, y_test) = data"
      ],
      "execution_count": null,
      "outputs": []
    },
    {
      "cell_type": "markdown",
      "metadata": {
        "id": "5WsvC0jJjyom"
      },
      "source": [
        "Checking shape and size of dataset"
      ]
    },
    {
      "cell_type": "code",
      "metadata": {
        "colab": {
          "base_uri": "https://localhost:8080/"
        },
        "id": "XuVZRl28j6Ve",
        "outputId": "51ec2c57-bc8e-425e-d8cb-8375b832c914"
      },
      "source": [
        "x_train.shape"
      ],
      "execution_count": null,
      "outputs": [
        {
          "output_type": "execute_result",
          "data": {
            "text/plain": [
              "(50000, 32, 32, 3)"
            ]
          },
          "metadata": {},
          "execution_count": 36
        }
      ]
    },
    {
      "cell_type": "code",
      "metadata": {
        "colab": {
          "base_uri": "https://localhost:8080/"
        },
        "id": "qszsb6MgjFRX",
        "outputId": "916ffe9a-bab0-4d7a-da55-2590da209a21"
      },
      "source": [
        "x_test.shape"
      ],
      "execution_count": null,
      "outputs": [
        {
          "output_type": "execute_result",
          "data": {
            "text/plain": [
              "(10000, 32, 32, 3)"
            ]
          },
          "metadata": {},
          "execution_count": 37
        }
      ]
    },
    {
      "cell_type": "code",
      "metadata": {
        "colab": {
          "base_uri": "https://localhost:8080/",
          "height": 229
        },
        "id": "w-O8HSLHlP4Y",
        "outputId": "29635fd0-e93f-44ae-e216-88f95aea82c3"
      },
      "source": [
        "plt.figure(figsize=(25,3))\n",
        "plt.imshow(x_train[7])"
      ],
      "execution_count": null,
      "outputs": [
        {
          "output_type": "execute_result",
          "data": {
            "text/plain": [
              "<matplotlib.image.AxesImage at 0x7ff180f00f50>"
            ]
          },
          "metadata": {},
          "execution_count": 38
        },
        {
          "output_type": "display_data",
          "data": {
            "image/png": "[encoded data removed]",
            "text/plain": [
              "<Figure size 1800x216 with 1 Axes>"
            ]
          },
          "metadata": {
            "needs_background": "light"
          }
        }
      ]
    },
    {
      "cell_type": "markdown",
      "metadata": {
        "id": "xFE2VukBnkia"
      },
      "source": [
        "Normalizing values"
      ]
    },
    {
      "cell_type": "code",
      "metadata": {
        "id": "R7OOnELjnoJ_"
      },
      "source": [
        "x_train = x_train / 255.0\n",
        "x_test = x_test / 255.0"
      ],
      "execution_count": null,
      "outputs": []
    },
    {
      "cell_type": "markdown",
      "metadata": {
        "id": "mNd9Q9qtuvGA"
      },
      "source": [
        "CNN"
      ]
    },
    {
      "cell_type": "markdown",
      "metadata": {
        "id": "OSbYloP3MorC"
      },
      "source": [
        "The convolution layer inputs with  32 * 32 (w*h) sized images (channel=3 (r,g,b))\n",
        "Intially a 32 filter is used and Relu is used as activation function over here. The dense layer contains 64 nodes and it is activated with 'relu' function. The final dense layer has 10 nodes and which is activated with 'softmax'."
      ]
    },
    {
      "cell_type": "code",
      "metadata": {
        "id": "FNp9Y40Anz6-"
      },
      "source": [
        "model_cnn = models.Sequential([\n",
        "        #cnn\n",
        "        layers.Conv2D(filters=32, kernel_size=(3,3), activation='relu', input_shape=(32,32,3)),\n",
        "        layers.MaxPool2D((2,2)),\n",
        "\n",
        "        layers.Conv2D(filters=64, kernel_size=(3,3), activation='relu'),\n",
        "        layers.MaxPool2D((2,2)),\n",
        "\n",
        "        #Dense\n",
        "\n",
        "        layers.Flatten(),\n",
        "        layers.Dense(64, activation='relu'),\n",
        "        layers.Dense(10, activation='softmax')             \n",
        "])"
      ],
      "execution_count": null,
      "outputs": []
    },
    {
      "cell_type": "markdown",
      "metadata": {
        "id": "VQ_cjwwMOhx5"
      },
      "source": [
        "Optimization with Adam optimizer"
      ]
    },
    {
      "cell_type": "markdown",
      "metadata": {
        "id": "p8UlLQx9Oy6U"
      },
      "source": [
        "Here sparse categorical cross entropy is used for loss calculation. We can utilize categorical cross entropy if we applied 1-hot encoder"
      ]
    },
    {
      "cell_type": "code",
      "metadata": {
        "id": "KlEWe73xxwX_"
      },
      "source": [
        "model_cnn.compile(optimizer='adam',\n",
        "              loss='sparse_categorical_crossentropy',\n",
        "              metrics=['accuracy'])"
      ],
      "execution_count": null,
      "outputs": []
    },
    {
      "cell_type": "markdown",
      "metadata": {
        "id": "ccEZMgqfQAN6"
      },
      "source": [
        "Fiting the model with training data "
      ]
    },
    {
      "cell_type": "code",
      "metadata": {
        "colab": {
          "base_uri": "https://localhost:8080/"
        },
        "id": "1Jccf9YgyP8D",
        "outputId": "d03652aa-3a6d-41b5-a909-da3c469a2d7b"
      },
      "source": [
        "model_cnn.fit(x_train, y_train, epochs=10)"
      ],
      "execution_count": null,
      "outputs": [
        {
          "output_type": "stream",
          "name": "stdout",
          "text": [
            "Epoch 1/10\n",
            "1563/1563 [==============================] - 59s 37ms/step - loss: 1.4162 - accuracy: 0.4951\n",
            "Epoch 2/10\n",
            "1563/1563 [==============================] - 59s 38ms/step - loss: 1.0968 - accuracy: 0.6172\n",
            "Epoch 3/10\n",
            "1563/1563 [==============================] - 59s 38ms/step - loss: 0.9712 - accuracy: 0.6626\n",
            "Epoch 4/10\n",
            "1563/1563 [==============================] - 59s 38ms/step - loss: 0.8815 - accuracy: 0.6942\n",
            "Epoch 5/10\n",
            "1563/1563 [==============================] - 59s 38ms/step - loss: 0.8122 - accuracy: 0.7169\n",
            "Epoch 6/10\n",
            "1563/1563 [==============================] - 59s 38ms/step - loss: 0.7562 - accuracy: 0.7366\n",
            "Epoch 7/10\n",
            "1563/1563 [==============================] - 59s 38ms/step - loss: 0.7051 - accuracy: 0.7555\n",
            "Epoch 8/10\n",
            "1563/1563 [==============================] - 59s 38ms/step - loss: 0.6634 - accuracy: 0.7695\n",
            "Epoch 9/10\n",
            "1563/1563 [==============================] - 60s 38ms/step - loss: 0.6228 - accuracy: 0.7821\n",
            "Epoch 10/10\n",
            "1563/1563 [==============================] - 60s 38ms/step - loss: 0.5775 - accuracy: 0.7959\n"
          ]
        },
        {
          "output_type": "execute_result",
          "data": {
            "text/plain": [
              "<keras.callbacks.History at 0x7ff180e7f890>"
            ]
          },
          "metadata": {},
          "execution_count": 44
        }
      ]
    },
    {
      "cell_type": "markdown",
      "metadata": {
        "id": "bH3Ey8yxQGFu"
      },
      "source": [
        "Model evaluation"
      ]
    },
    {
      "cell_type": "code",
      "metadata": {
        "colab": {
          "base_uri": "https://localhost:8080/"
        },
        "id": "J33YHV-30yn_",
        "outputId": "2d2c783b-731d-4cdb-b58c-d311d67bb3fc"
      },
      "source": [
        "model_cnn.evaluate(x_test,y_test)"
      ],
      "execution_count": null,
      "outputs": [
        {
          "output_type": "stream",
          "name": "stdout",
          "text": [
            "313/313 [==============================] - 4s 12ms/step - loss: 0.9322 - accuracy: 0.7014\n"
          ]
        },
        {
          "output_type": "execute_result",
          "data": {
            "text/plain": [
              "[0.9321849346160889, 0.7013999819755554]"
            ]
          },
          "metadata": {},
          "execution_count": 45
        }
      ]
    },
    {
      "cell_type": "markdown",
      "metadata": {
        "id": "IsvBJQJVC4j3"
      },
      "source": [
        "CNN With filter size 64 & 128"
      ]
    },
    {
      "cell_type": "markdown",
      "metadata": {
        "id": "qURmSgEjQ3qO"
      },
      "source": [
        "Here, the CNN intial filter size is replaced with 64 and the second filter with 128"
      ]
    },
    {
      "cell_type": "code",
      "metadata": {
        "id": "jCbhkc4iDEh7"
      },
      "source": [
        "model0_cnn = models.Sequential([\n",
        "        #cnn\n",
        "        layers.Conv2D(filters=64, kernel_size=(3,3), activation='relu', input_shape=(32,32,3)),\n",
        "        layers.MaxPool2D((2,2)),\n",
        "\n",
        "        layers.Conv2D(filters=128, kernel_size=(3,3), activation='relu'),\n",
        "        layers.MaxPool2D((2,2)),\n",
        "\n",
        "        #Dense\n",
        "\n",
        "        layers.Flatten(),\n",
        "        layers.Dense(64, activation='relu'),\n",
        "        layers.Dense(10, activation='softmax')             \n",
        "])"
      ],
      "execution_count": 56,
      "outputs": []
    },
    {
      "cell_type": "markdown",
      "metadata": {
        "id": "cSwfH_r8RGjs"
      },
      "source": [
        "Optimization with Adam"
      ]
    },
    {
      "cell_type": "code",
      "metadata": {
        "id": "OVUxETfyDZPQ"
      },
      "source": [
        "model0_cnn.compile(optimizer='adam',\n",
        "              loss='sparse_categorical_crossentropy',\n",
        "              metrics=['accuracy'])"
      ],
      "execution_count": 57,
      "outputs": []
    },
    {
      "cell_type": "markdown",
      "metadata": {
        "id": "odk0DjLJRLcZ"
      },
      "source": [
        "Model training"
      ]
    },
    {
      "cell_type": "code",
      "metadata": {
        "colab": {
          "base_uri": "https://localhost:8080/"
        },
        "id": "cEXwfuSJDjJw",
        "outputId": "499e2471-2905-405e-b05f-7e7bb251b1b3"
      },
      "source": [
        "model0_cnn.fit(x_train, y_train, epochs=10)"
      ],
      "execution_count": 58,
      "outputs": [
        {
          "output_type": "stream",
          "name": "stdout",
          "text": [
            "Epoch 1/10\n",
            "1563/1563 [==============================] - 131s 84ms/step - loss: 1.4190 - accuracy: 0.4886\n",
            "Epoch 2/10\n",
            "1563/1563 [==============================] - 131s 84ms/step - loss: 1.0496 - accuracy: 0.6328\n",
            "Epoch 3/10\n",
            "1563/1563 [==============================] - 131s 84ms/step - loss: 0.9155 - accuracy: 0.6824\n",
            "Epoch 4/10\n",
            "1563/1563 [==============================] - 131s 83ms/step - loss: 0.8178 - accuracy: 0.7163\n",
            "Epoch 5/10\n",
            "1563/1563 [==============================] - 130s 83ms/step - loss: 0.7440 - accuracy: 0.7414\n",
            "Epoch 6/10\n",
            "1563/1563 [==============================] - 130s 83ms/step - loss: 0.6769 - accuracy: 0.7654\n",
            "Epoch 7/10\n",
            "1563/1563 [==============================] - 130s 83ms/step - loss: 0.6194 - accuracy: 0.7851\n",
            "Epoch 8/10\n",
            "1563/1563 [==============================] - 130s 83ms/step - loss: 0.5691 - accuracy: 0.8015\n",
            "Epoch 9/10\n",
            "1563/1563 [==============================] - 131s 84ms/step - loss: 0.5216 - accuracy: 0.8168\n",
            "Epoch 10/10\n",
            "1563/1563 [==============================] - 134s 85ms/step - loss: 0.4794 - accuracy: 0.8325\n"
          ]
        },
        {
          "output_type": "execute_result",
          "data": {
            "text/plain": [
              "<keras.callbacks.History at 0x7ff180b0e6d0>"
            ]
          },
          "metadata": {},
          "execution_count": 58
        }
      ]
    },
    {
      "cell_type": "markdown",
      "metadata": {
        "id": "SDjNcTtPRQ3O"
      },
      "source": [
        "Model evaluation"
      ]
    },
    {
      "cell_type": "code",
      "metadata": {
        "colab": {
          "base_uri": "https://localhost:8080/"
        },
        "id": "BFo2iLAmIvNu",
        "outputId": "b5285720-ee27-409f-8f40-21c8230b53e2"
      },
      "source": [
        "model0_cnn.evaluate(x_test,y_test)"
      ],
      "execution_count": 59,
      "outputs": [
        {
          "output_type": "stream",
          "name": "stdout",
          "text": [
            "313/313 [==============================] - 7s 21ms/step - loss: 0.9756 - accuracy: 0.7068\n"
          ]
        },
        {
          "output_type": "execute_result",
          "data": {
            "text/plain": [
              "[0.9755603671073914, 0.7067999839782715]"
            ]
          },
          "metadata": {},
          "execution_count": 59
        }
      ]
    },
    {
      "cell_type": "markdown",
      "metadata": {
        "id": "iw9qaHa-RYau"
      },
      "source": [
        "CNN with 4 * 4 max pooling"
      ]
    },
    {
      "cell_type": "code",
      "metadata": {
        "id": "GFHsO6skRWwe"
      },
      "source": [
        "modelmax_cnn = models.Sequential([\n",
        "        #cnn\n",
        "        layers.Conv2D(filters=32, kernel_size=(3,3), activation='relu', input_shape=(32,32,3)),\n",
        "        layers.MaxPool2D((2,2)),\n",
        "\n",
        "        layers.Conv2D(filters=64, kernel_size=(3,3), activation='relu'),\n",
        "        layers.MaxPool2D((4,4)),\n",
        "\n",
        "        #Dense\n",
        "\n",
        "        layers.Flatten(),\n",
        "        layers.Dense(64, activation='relu'),\n",
        "        layers.Dense(10, activation='softmax')             \n",
        "])"
      ],
      "execution_count": 64,
      "outputs": []
    },
    {
      "cell_type": "markdown",
      "metadata": {
        "id": "4gvEcfsHVKCs"
      },
      "source": [
        "Model optimization"
      ]
    },
    {
      "cell_type": "code",
      "metadata": {
        "id": "cdS0iF8oRzuQ"
      },
      "source": [
        "modelmax_cnn.compile(optimizer='adam',\n",
        "              loss='sparse_categorical_crossentropy',\n",
        "              metrics=['accuracy'])"
      ],
      "execution_count": 65,
      "outputs": []
    },
    {
      "cell_type": "markdown",
      "metadata": {
        "id": "-nCjae2QVOOH"
      },
      "source": [
        "Model Training"
      ]
    },
    {
      "cell_type": "code",
      "metadata": {
        "colab": {
          "base_uri": "https://localhost:8080/"
        },
        "id": "K3OgYYT3R89g",
        "outputId": "db9684f3-d5a7-49e9-e028-861026bb2321"
      },
      "source": [
        "modelmax_cnn.fit(x_train, y_train, epochs=10)"
      ],
      "execution_count": 66,
      "outputs": [
        {
          "output_type": "stream",
          "name": "stdout",
          "text": [
            "Epoch 1/10\n",
            "1563/1563 [==============================] - 56s 35ms/step - loss: 1.5531 - accuracy: 0.4357\n",
            "Epoch 2/10\n",
            "1563/1563 [==============================] - 55s 35ms/step - loss: 1.2053 - accuracy: 0.5710\n",
            "Epoch 3/10\n",
            "1563/1563 [==============================] - 55s 35ms/step - loss: 1.0764 - accuracy: 0.6222\n",
            "Epoch 4/10\n",
            "1563/1563 [==============================] - 57s 36ms/step - loss: 0.9975 - accuracy: 0.6508\n",
            "Epoch 5/10\n",
            "1563/1563 [==============================] - 57s 36ms/step - loss: 0.9350 - accuracy: 0.6762\n",
            "Epoch 6/10\n",
            "1563/1563 [==============================] - 57s 36ms/step - loss: 0.8855 - accuracy: 0.6924\n",
            "Epoch 7/10\n",
            "1563/1563 [==============================] - 57s 36ms/step - loss: 0.8443 - accuracy: 0.7072\n",
            "Epoch 8/10\n",
            "1563/1563 [==============================] - 56s 36ms/step - loss: 0.8142 - accuracy: 0.7192\n",
            "Epoch 9/10\n",
            "1563/1563 [==============================] - 56s 36ms/step - loss: 0.7824 - accuracy: 0.7293\n",
            "Epoch 10/10\n",
            "1563/1563 [==============================] - 56s 36ms/step - loss: 0.7574 - accuracy: 0.7362\n"
          ]
        },
        {
          "output_type": "execute_result",
          "data": {
            "text/plain": [
              "<keras.callbacks.History at 0x7ff1797c7410>"
            ]
          },
          "metadata": {},
          "execution_count": 66
        }
      ]
    },
    {
      "cell_type": "markdown",
      "metadata": {
        "id": "QHwXDxMDVTdj"
      },
      "source": [
        "Model evaluation"
      ]
    },
    {
      "cell_type": "code",
      "metadata": {
        "colab": {
          "base_uri": "https://localhost:8080/"
        },
        "id": "8i9qvGO8Ujdm",
        "outputId": "11520277-731e-4dca-8cd5-7bcac81c6665"
      },
      "source": [
        "modelmax_cnn.evaluate(x_test,y_test)"
      ],
      "execution_count": 67,
      "outputs": [
        {
          "output_type": "stream",
          "name": "stdout",
          "text": [
            "313/313 [==============================] - 3s 11ms/step - loss: 0.9063 - accuracy: 0.6939\n"
          ]
        },
        {
          "output_type": "execute_result",
          "data": {
            "text/plain": [
              "[0.9062692523002625, 0.6938999891281128]"
            ]
          },
          "metadata": {},
          "execution_count": 67
        }
      ]
    },
    {
      "cell_type": "markdown",
      "metadata": {
        "id": "Iq0MblECI3wz"
      },
      "source": [
        "CNN with Nadam optimizer"
      ]
    },
    {
      "cell_type": "code",
      "metadata": {
        "id": "QkxFAvHdJHRp"
      },
      "source": [
        "modelo_cnn = models.Sequential([\n",
        "        #cnn\n",
        "        layers.Conv2D(filters=32, kernel_size=(3,3), activation='relu', input_shape=(32,32,3)),\n",
        "        layers.MaxPool2D((2,2)),\n",
        "\n",
        "        layers.Conv2D(filters=64, kernel_size=(3,3), activation='relu'),\n",
        "        layers.MaxPool2D((2,2)),\n",
        "\n",
        "        #Dense\n",
        "\n",
        "        layers.Flatten(),\n",
        "        layers.Dense(64, activation='relu'),\n",
        "        layers.Dense(10, activation='softmax')             \n",
        "])"
      ],
      "execution_count": 60,
      "outputs": []
    },
    {
      "cell_type": "markdown",
      "metadata": {
        "id": "g_zQO0OqVX9c"
      },
      "source": [
        "Optimization with Nadam"
      ]
    },
    {
      "cell_type": "code",
      "metadata": {
        "id": "XcFemso9JWzW"
      },
      "source": [
        "modelo_cnn.compile(optimizer='nadam',\n",
        "              loss='sparse_categorical_crossentropy',\n",
        "              metrics=['accuracy'])"
      ],
      "execution_count": 61,
      "outputs": []
    },
    {
      "cell_type": "markdown",
      "metadata": {
        "id": "BDYhe0sFVdCs"
      },
      "source": [
        "Model tranining"
      ]
    },
    {
      "cell_type": "code",
      "metadata": {
        "colab": {
          "base_uri": "https://localhost:8080/"
        },
        "id": "oboAnDu-Jcv1",
        "outputId": "80a52a05-3677-4cca-c0a1-f11f1246c75f"
      },
      "source": [
        "modelo_cnn.fit(x_train, y_train, epochs=10)"
      ],
      "execution_count": 62,
      "outputs": [
        {
          "output_type": "stream",
          "name": "stdout",
          "text": [
            "Epoch 1/10\n",
            "1563/1563 [==============================] - 60s 38ms/step - loss: 1.4352 - accuracy: 0.4865\n",
            "Epoch 2/10\n",
            "1563/1563 [==============================] - 59s 38ms/step - loss: 1.0687 - accuracy: 0.6250\n",
            "Epoch 3/10\n",
            "1563/1563 [==============================] - 59s 38ms/step - loss: 0.9279 - accuracy: 0.6770\n",
            "Epoch 4/10\n",
            "1563/1563 [==============================] - 60s 38ms/step - loss: 0.8365 - accuracy: 0.7102\n",
            "Epoch 5/10\n",
            "1563/1563 [==============================] - 59s 38ms/step - loss: 0.7628 - accuracy: 0.7345\n",
            "Epoch 6/10\n",
            "1563/1563 [==============================] - 60s 38ms/step - loss: 0.7052 - accuracy: 0.7554\n",
            "Epoch 7/10\n",
            "1563/1563 [==============================] - 60s 38ms/step - loss: 0.6540 - accuracy: 0.7733\n",
            "Epoch 8/10\n",
            "1563/1563 [==============================] - 59s 38ms/step - loss: 0.6106 - accuracy: 0.7878\n",
            "Epoch 9/10\n",
            "1563/1563 [==============================] - 60s 38ms/step - loss: 0.5679 - accuracy: 0.8017\n",
            "Epoch 10/10\n",
            "1563/1563 [==============================] - 60s 38ms/step - loss: 0.5293 - accuracy: 0.8156\n"
          ]
        },
        {
          "output_type": "execute_result",
          "data": {
            "text/plain": [
              "<keras.callbacks.History at 0x7ff180a05290>"
            ]
          },
          "metadata": {},
          "execution_count": 62
        }
      ]
    },
    {
      "cell_type": "markdown",
      "metadata": {
        "id": "HZJth-O2VgAh"
      },
      "source": [
        "Model evaluation"
      ]
    },
    {
      "cell_type": "code",
      "metadata": {
        "colab": {
          "base_uri": "https://localhost:8080/"
        },
        "id": "hzggGhqsL5ly",
        "outputId": "9cdd09b6-87f6-44ad-fa43-e7f14db4341a"
      },
      "source": [
        "modelo_cnn.evaluate(x_test,y_test)"
      ],
      "execution_count": 63,
      "outputs": [
        {
          "output_type": "stream",
          "name": "stdout",
          "text": [
            "313/313 [==============================] - 3s 11ms/step - loss: 0.9424 - accuracy: 0.7038\n"
          ]
        },
        {
          "output_type": "execute_result",
          "data": {
            "text/plain": [
              "[0.9424166083335876, 0.7038000226020813]"
            ]
          },
          "metadata": {},
          "execution_count": 63
        }
      ]
    },
    {
      "cell_type": "markdown",
      "metadata": {
        "id": "zq5m1ZxJ6pz9"
      },
      "source": [
        "CNN with different activation functions"
      ]
    },
    {
      "cell_type": "code",
      "metadata": {
        "id": "UjPsVMkD6noH"
      },
      "source": [
        "model1_cnn = models.Sequential([\n",
        "        #cnn\n",
        "        layers.Conv2D(filters=32, kernel_size=(3,3), activation='relu', input_shape=(32,32,3)),\n",
        "        layers.MaxPool2D((2,2)),\n",
        "\n",
        "        layers.Conv2D(filters=64, kernel_size=(3,3), activation='sigmoid'),\n",
        "        layers.MaxPool2D((2,2)),\n",
        "\n",
        "        #Dense\n",
        "\n",
        "        layers.Flatten(),\n",
        "        layers.Dense(64, activation='relu'),\n",
        "        layers.Dense(10, activation='softmax')             \n",
        "])"
      ],
      "execution_count": null,
      "outputs": []
    },
    {
      "cell_type": "markdown",
      "metadata": {
        "id": "OGPxXDgtVlm8"
      },
      "source": [
        "Model optimization"
      ]
    },
    {
      "cell_type": "code",
      "metadata": {
        "id": "Xbphht4E680V"
      },
      "source": [
        "model1_cnn.compile(optimizer='adam',\n",
        "              loss='sparse_categorical_crossentropy',\n",
        "              metrics=['accuracy'])"
      ],
      "execution_count": null,
      "outputs": []
    },
    {
      "cell_type": "markdown",
      "metadata": {
        "id": "A7SDP0LeVoOA"
      },
      "source": [
        "Model training"
      ]
    },
    {
      "cell_type": "code",
      "metadata": {
        "colab": {
          "base_uri": "https://localhost:8080/"
        },
        "id": "zbvBgR_57DIQ",
        "outputId": "5b7eca39-537f-4f4f-e9a5-31f095e6ee7f"
      },
      "source": [
        "model1_cnn.fit(x_train, y_train, epochs=10)"
      ],
      "execution_count": 49,
      "outputs": [
        {
          "output_type": "stream",
          "name": "stdout",
          "text": [
            "Epoch 1/10\n",
            "1563/1563 [==============================] - 58s 37ms/step - loss: 2.3028 - accuracy: 0.0996\n",
            "Epoch 2/10\n",
            "1563/1563 [==============================] - 58s 37ms/step - loss: 2.3028 - accuracy: 0.0993\n",
            "Epoch 3/10\n",
            "1563/1563 [==============================] - 58s 37ms/step - loss: 2.3028 - accuracy: 0.0998\n",
            "Epoch 4/10\n",
            "1563/1563 [==============================] - 58s 37ms/step - loss: 2.3027 - accuracy: 0.1006\n",
            "Epoch 5/10\n",
            "1563/1563 [==============================] - 58s 37ms/step - loss: 2.3028 - accuracy: 0.0981\n",
            "Epoch 6/10\n",
            "1563/1563 [==============================] - 57s 37ms/step - loss: 2.3028 - accuracy: 0.0976\n",
            "Epoch 7/10\n",
            "1563/1563 [==============================] - 57s 36ms/step - loss: 2.3028 - accuracy: 0.0958\n",
            "Epoch 8/10\n",
            "1563/1563 [==============================] - 58s 37ms/step - loss: 2.3028 - accuracy: 0.0971\n",
            "Epoch 9/10\n",
            "1563/1563 [==============================] - 59s 38ms/step - loss: 2.3028 - accuracy: 0.0973\n",
            "Epoch 10/10\n",
            "1563/1563 [==============================] - 59s 38ms/step - loss: 2.3028 - accuracy: 0.0986\n"
          ]
        },
        {
          "output_type": "execute_result",
          "data": {
            "text/plain": [
              "<keras.callbacks.History at 0x7ff180cf7e90>"
            ]
          },
          "metadata": {},
          "execution_count": 49
        }
      ]
    },
    {
      "cell_type": "markdown",
      "metadata": {
        "id": "cK5uJMeaVsPj"
      },
      "source": [
        "Model evaluation"
      ]
    },
    {
      "cell_type": "code",
      "metadata": {
        "colab": {
          "base_uri": "https://localhost:8080/"
        },
        "id": "aoXd_FVa_uw2",
        "outputId": "0d1763fb-6b00-43a4-ac01-7ce8e3440fef"
      },
      "source": [
        "model1_cnn.evaluate(x_test,y_test)"
      ],
      "execution_count": 50,
      "outputs": [
        {
          "output_type": "stream",
          "name": "stdout",
          "text": [
            "313/313 [==============================] - 4s 11ms/step - loss: 2.3027 - accuracy: 0.1000\n"
          ]
        },
        {
          "output_type": "execute_result",
          "data": {
            "text/plain": [
              "[2.3026561737060547, 0.10000000149011612]"
            ]
          },
          "metadata": {},
          "execution_count": 50
        }
      ]
    },
    {
      "cell_type": "markdown",
      "metadata": {
        "id": "fHi3MWdBWtaq"
      },
      "source": [
        "Type 2"
      ]
    },
    {
      "cell_type": "code",
      "metadata": {
        "id": "OlbhonQH_2BP"
      },
      "source": [
        "model2_cnn = models.Sequential([\n",
        "        #cnn\n",
        "        layers.Conv2D(filters=32, kernel_size=(3,3), activation='relu', input_shape=(32,32,3)),\n",
        "        layers.MaxPool2D((2,2)),\n",
        "\n",
        "        layers.Conv2D(filters=64, kernel_size=(3,3), activation='softmax'),\n",
        "        layers.MaxPool2D((2,2)),\n",
        "\n",
        "        #Dense\n",
        "\n",
        "        layers.Flatten(),\n",
        "        layers.Dense(64, activation='relu'),\n",
        "        layers.Dense(10, activation='sigmoid')             \n",
        "])"
      ],
      "execution_count": 51,
      "outputs": []
    },
    {
      "cell_type": "code",
      "metadata": {
        "id": "C1oEMdqnAQk1"
      },
      "source": [
        "model2_cnn.compile(optimizer='adam',\n",
        "              loss='sparse_categorical_crossentropy',\n",
        "              metrics=['accuracy'])"
      ],
      "execution_count": 52,
      "outputs": []
    },
    {
      "cell_type": "code",
      "metadata": {
        "colab": {
          "base_uri": "https://localhost:8080/"
        },
        "id": "tgV764TGAWOx",
        "outputId": "b91162ec-fbaf-4c36-9634-dd2867812909"
      },
      "source": [
        "model2_cnn.fit(x_train, y_train, epochs=10)"
      ],
      "execution_count": 53,
      "outputs": [
        {
          "output_type": "stream",
          "name": "stdout",
          "text": [
            "Epoch 1/10\n",
            "1563/1563 [==============================] - 62s 39ms/step - loss: 1.7064 - accuracy: 0.3755\n",
            "Epoch 2/10\n",
            "1563/1563 [==============================] - 61s 39ms/step - loss: 1.3833 - accuracy: 0.5036\n",
            "Epoch 3/10\n",
            "1563/1563 [==============================] - 62s 40ms/step - loss: 1.2750 - accuracy: 0.5473\n",
            "Epoch 4/10\n",
            "1563/1563 [==============================] - 61s 39ms/step - loss: 1.1805 - accuracy: 0.5832\n",
            "Epoch 5/10\n",
            "1563/1563 [==============================] - 61s 39ms/step - loss: 1.0991 - accuracy: 0.6134\n",
            "Epoch 6/10\n",
            "1563/1563 [==============================] - 61s 39ms/step - loss: 1.0383 - accuracy: 0.6362\n",
            "Epoch 7/10\n",
            "1563/1563 [==============================] - 60s 38ms/step - loss: 0.9812 - accuracy: 0.6556\n",
            "Epoch 8/10\n",
            "1563/1563 [==============================] - 59s 38ms/step - loss: 0.9344 - accuracy: 0.6724\n",
            "Epoch 9/10\n",
            "1563/1563 [==============================] - 59s 38ms/step - loss: 0.8931 - accuracy: 0.6881\n",
            "Epoch 10/10\n",
            "1563/1563 [==============================] - 60s 38ms/step - loss: 0.8507 - accuracy: 0.7032\n"
          ]
        },
        {
          "output_type": "execute_result",
          "data": {
            "text/plain": [
              "<keras.callbacks.History at 0x7ff180b81150>"
            ]
          },
          "metadata": {},
          "execution_count": 53
        }
      ]
    },
    {
      "cell_type": "code",
      "metadata": {
        "colab": {
          "base_uri": "https://localhost:8080/"
        },
        "id": "PqU4iq-nCbzm",
        "outputId": "fa981b97-153b-4c75-b1a8-094bcd0a5834"
      },
      "source": [
        "model2_cnn.evaluate(x_test,y_test)"
      ],
      "execution_count": 54,
      "outputs": [
        {
          "output_type": "stream",
          "name": "stdout",
          "text": [
            "313/313 [==============================] - 4s 12ms/step - loss: 1.0174 - accuracy: 0.6479\n"
          ]
        },
        {
          "output_type": "execute_result",
          "data": {
            "text/plain": [
              "[1.0173909664154053, 0.6478999853134155]"
            ]
          },
          "metadata": {},
          "execution_count": 54
        }
      ]
    },
    {
      "cell_type": "markdown",
      "metadata": {
        "id": "S1wyKQ0bV7W6"
      },
      "source": [
        "**Summary**"
      ]
    },
    {
      "cell_type": "markdown",
      "metadata": {
        "id": "uGHq2x1JWChB"
      },
      "source": [
        "**Here the CNN alogorithm evaluated with different filter values, activation functions and optimizers. The intial CNN with specified parametres are effective compared to other codes executed over here.**"
      ]
    }
  ]
}